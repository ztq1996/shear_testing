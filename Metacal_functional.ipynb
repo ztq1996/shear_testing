{
 "cells": [
  {
   "cell_type": "code",
   "execution_count": 1,
   "metadata": {},
   "outputs": [],
   "source": [
    "import ngmix\n",
    "from ngmix.observation import Observation, ObsList, MultiBandObsList\n",
    "from ngmix.fitting import LMSimple\n",
    "import numpy as np\n",
    "from numpy import array\n",
    "from numpy.random import uniform as urand\n",
    "from ngmix.bootstrap import EMRunner\n",
    "import galsim\n",
    "import seaborn as sns\n",
    "import matplotlib.pylab as plt\n",
    "import time"
   ]
  },
  {
   "cell_type": "code",
   "execution_count": 2,
   "metadata": {},
   "outputs": [
    {
     "data": {
      "text/plain": [
       "galsim.hsm.HSMParams(3.0,3.6,25.0,1,2,1e-06,400,-1,0.25,8000.0,15.0,4,0.0,1.0,-1000.0)"
      ]
     },
     "execution_count": 2,
     "metadata": {},
     "output_type": "execute_result"
    }
   ],
   "source": [
    "galsim.hsm.HSMParams()"
   ]
  },
  {
   "cell_type": "code",
   "execution_count": 3,
   "metadata": {},
   "outputs": [],
   "source": [
    "def fit_line(x,y):\n",
    "    params,cov = np.polyfit(x,y,1,cov = True)\n",
    "    print 'slope = ', params[0], ', uncertainty = ', np.sqrt(cov[0][0])\n",
    "    "
   ]
  },
  {
   "cell_type": "code",
   "execution_count": 4,
   "metadata": {},
   "outputs": [],
   "source": [
    "class metacal_shear_measure:\n",
    "    \n",
    "    def __init__(self,final_image,psf_image):\n",
    "        self.final_image = final_image\n",
    "        self.final_image_array = final_image.array\n",
    "        self.psf_image = psf_image\n",
    "        self.psf_image_array = psf_image.array\n",
    "        return None\n",
    "    \n",
    "    def measure_shear(self,method):\n",
    "        self.results={}\n",
    "        if method == 'estimateShear':\n",
    "            shear = self.measure_shear_estimateShear()\n",
    "        elif method == 'ngmix':\n",
    "            shear = self.measure_shear_ngmix()\n",
    "        elif method == 'admomBootstrap':\n",
    "            shear = self.measure_shear_admombootstrap()\n",
    "        self.results['g_cal'] = shear\n",
    "        return 0\n",
    "        \n",
    "    def measure_shear_estimateShear(self):\n",
    "\n",
    "        \n",
    "        \n",
    "        #get <e>\n",
    "        obs_results = galsim.hsm.EstimateShear(self.final_image,self.psf_image)\n",
    "        \n",
    "        #prepare for get_all_metacal\n",
    "        psf_obs=Observation(self.psf_image_array)\n",
    "        obs = Observation(self.final_image_array,psf=psf_obs)\n",
    "        \n",
    "        #generate counterfactual image\n",
    "        obdic = ngmix.metacal.get_all_metacal(obs,fixnoise = False)\n",
    "        \n",
    "        #append uncalibrated results\n",
    "        self.results['g'] = (obs_results.corrected_e1/2,obs_results.corrected_e2/2)\n",
    "            \n",
    "\n",
    "        mcal_results={}\n",
    "\n",
    "        for key in obdic:\n",
    "            \n",
    "            #get counterfactual PSF and image arrays\n",
    "            mobs = obdic[key]\n",
    "            mpsf_array = mobs.get_psf().image\n",
    "            mimage_array = mobs.image\n",
    "            \n",
    "            #transfer counterfactual psf and image to galsim object\n",
    "            this_image = galsim.Image(mimage_array)\n",
    "            this_image_epsf = galsim.Image(mpsf_array)\n",
    "            \n",
    "            #shape measurement\n",
    "            res = galsim.hsm.EstimateShear(this_image,this_image_epsf)\n",
    "\n",
    "            this_res = {'g1':res.corrected_e1/2,'g2':res.corrected_e2/2}\n",
    "\n",
    "            #print key,this_res\n",
    "            mcal_results[key] = this_res\n",
    "\n",
    "\n",
    "        # calculate response R. The shear by default\n",
    "        # is 0.01, so dgamma=0.02\n",
    "        \n",
    "        g = np.array([obs_results.corrected_e1/2,obs_results.corrected_e2/2])\n",
    "        #print g\n",
    "        R11 = (mcal_results['1p']['g1'] - mcal_results['1m']['g1'])/(0.02)\n",
    "        R22 = (mcal_results['2p']['g2'] - mcal_results['2m']['g2'])/(0.02)\n",
    "        R12 = (mcal_results['1p']['g2'] - mcal_results['1m']['g2'])/(0.02)\n",
    "        R21 = (mcal_results['2p']['g1'] - mcal_results['2m']['g1'])/(0.02)\n",
    "        \n",
    "        R = np.array([[R11,R12],[R21,R22]])\n",
    "        Rinv = np.linalg.inv(R)\n",
    "        \n",
    "        #print R\n",
    "        #print R11,R22\n",
    "        \n",
    "        #return the <g> = R^(-1) * <e>\n",
    "                \n",
    "        return np.matmul(Rinv,g)\n",
    "    \n",
    "    def measure_shear_ngmix(self):\n",
    "        psf_obs=Observation(self.psf_image_array)\n",
    "        pfitter=LMSimple(psf_obs,'gauss')\n",
    "        pfit_guess = self.make_guess(self.psf_image_array)\n",
    "        \n",
    "        pfitter.go(pfit_guess)\n",
    "\n",
    "        psf_gmix_fit=pfitter.get_gmix()\n",
    "        \n",
    "        psf_obs.set_gmix(psf_gmix_fit)\n",
    "        \n",
    "        weight=np.ones(self.final_image_array.shape)\n",
    "\n",
    "        obs = Observation(self.final_image_array,weight = weight, psf=psf_obs)\n",
    "\n",
    "        fitter=LMSimple(obs,'gauss')\n",
    "\n",
    "        final_guess = self.make_guess(self.final_image_array)\n",
    "        #final_guess = [0.0, 0.0, 0.01, 0.0, 50.0, 1.e5]\n",
    "        \n",
    "        fitter.go(final_guess)\n",
    "\n",
    "        obs_res=fitter.get_result()\n",
    "        \n",
    "        self.results['g'] = obs_res['g']\n",
    "\n",
    "        #ngmix.print_pars(obs_res['pars'],front=\"meas: \")\n",
    "        \n",
    "        obdic = ngmix.metacal.get_all_metacal(obs)\n",
    "        \n",
    "        mcal_results={}\n",
    "\n",
    "        for key in obdic:\n",
    "            mobs = obdic[key]\n",
    "            this_psf = mobs.get_psf()\n",
    "            this_image = mobs.image\n",
    "\n",
    "\n",
    "            #psf fitting\n",
    "            this_pfitter=LMSimple(this_psf,'gauss')\n",
    "            this_pguess = self.make_guess(this_psf.image)\n",
    "            this_pfitter.go(this_pguess)\n",
    "            this_psf_gmix_fit=this_pfitter.get_gmix()\n",
    "\n",
    "            # set the gmix; needed for galaxy fitting later\n",
    "            this_psf.set_gmix(this_psf_gmix_fit)\n",
    "\n",
    "            #image fitting\n",
    "            weight=np.ones(this_image.shape)\n",
    "\n",
    "            # When constructing the Observation we include a weight map and a psf\n",
    "            # observation\n",
    "\n",
    "            this_obs = Observation(this_image, weight=weight, psf=this_psf)\n",
    "\n",
    "            this_fitter=LMSimple(this_obs,'gauss')\n",
    "\n",
    "            this_guess = self.make_guess(this_image)\n",
    "            this_fitter.go(this_guess)\n",
    "\n",
    "            this_res=this_fitter.get_result()\n",
    "            #print key,res\n",
    "            mcal_results[key] = this_res\n",
    "            \n",
    "            #print key,this_res['g']\n",
    "\n",
    "        R11 = (mcal_results['1p']['g'][0] - mcal_results['1m']['g'][0])/(0.02)\n",
    "        R22 = (mcal_results['2p']['g'][1] - mcal_results['2m']['g'][1])/(0.02)\n",
    "        R12 = (mcal_results['1p']['g'][1] - mcal_results['1m']['g'][1])/(0.02)\n",
    "        R21 = (mcal_results['2p']['g'][0] - mcal_results['2m']['g'][0])/(0.02)\n",
    "        R = np.array([[R11,R12],[R21,R22]])\n",
    "        Rinv = np.linalg.inv(R)\n",
    "\n",
    "        print R\n",
    "        #print R11,R22\n",
    "        \n",
    "        return np.matmul(Rinv,obs_res['g'])\n",
    "    \n",
    "    \n",
    "    \n",
    "    def measure_shear_admombootstrap(self):\n",
    "        psf_obs=Observation(self.psf_image_array)\n",
    "        obs = Observation(self.final_image_array, psf=psf_obs)\n",
    "        meta_boot = ngmix.bootstrap.AdmomMetacalBootstrapper(obs,fixnoise = False)\n",
    "        meta_boot.fit_metacal()\n",
    "        res = meta_boot.get_metacal_result()\n",
    "        R11 = (res['1p']['g'][0] - res['1m']['g'][0])/(0.02)\n",
    "        R22 = (res['2p']['g'][1] - res['2m']['g'][1])/(0.02)\n",
    "        R12 = (res['1p']['g'][1] - res['1m']['g'][1])/(0.02)\n",
    "        R21 = (res['2p']['g'][0] - res['2m']['g'][0])/(0.02)\n",
    "        R = np.array([[R11,R12],[R21,R22]])\n",
    "        print R\n",
    "        Rinv = np.linalg.inv(R)\n",
    "        e_est = res['noshear']['e']\n",
    "        self.results['g'] = e_est\n",
    "        \n",
    "        return np.matmul(Rinv,e_est)\n",
    "\n",
    "        \n",
    "    def make_guess(self,array):\n",
    "        \n",
    "        eps = 0.01\n",
    "        shape = galsim.hsm.FindAdaptiveMom(galsim.Image(array))\n",
    "        pars = np.zeros(6)\n",
    "        pars[0] = urand(low=-eps,high=eps)\n",
    "        pars[1] = urand(low=-eps,high=eps)\n",
    "        pars[2] = shape.observed_shape.g1+urand(low=-eps,high=eps)\n",
    "        pars[3] = shape.observed_shape.g2+urand(low=-eps,high=eps)\n",
    "        pars[4] = 2*shape.moments_sigma**2*(1+urand(low=-eps,high=eps))\n",
    "        pars[5] = shape.moments_amp*(1+urand(low=-eps,high=eps))\n",
    "        #print \"guess\",pars\n",
    "\n",
    "        return pars\n",
    "    \n",
    "    def get_results(self):\n",
    "        \n",
    "        return self.results\n",
    "        \n",
    "        \n",
    "        "
   ]
  },
  {
   "cell_type": "code",
   "execution_count": 5,
   "metadata": {
    "collapsed": true
   },
   "outputs": [],
   "source": [
    "#Truth\n",
    "gal = galsim.Gaussian(sigma = 2.0,flux = 1e4)\n",
    "gal = gal.shear(g1 = 0.02,g2 = 0.0)\n",
    "#psf = galsim.Kolmogorov(half_light_radius=0.7)\n",
    "psf = galsim.Gaussian(sigma = 0.6,flux = 1.0)\n",
    "final = galsim.Convolve([gal,psf])\n",
    "psf_model  =galsim.Kolmogorov(half_light_radius=0.7)\n",
    "\n",
    "#What you can use\n",
    "pixel_scale = 0.2\n",
    "\n",
    "image_epsf = psf_model.drawImage(scale = pixel_scale)\n",
    "image = final.drawImage(scale = pixel_scale)\n",
    "\n",
    "\n",
    "\n"
   ]
  },
  {
   "cell_type": "code",
   "execution_count": 6,
   "metadata": {},
   "outputs": [
    {
     "name": "stdout",
     "output_type": "stream",
     "text": [
      "{'g_cal': array([2.04311220e-02, 1.50462198e-08]), 'g': (0.020306184887886047, 1.497972412778381e-08)}\n"
     ]
    }
   ],
   "source": [
    "metacal1 = metacal_shear_measure(image,image_epsf)\n",
    "metacal1.measure_shear('estimateShear')\n",
    "results1 = metacal1.get_results()\n",
    "print results1\n",
    "\n"
   ]
  },
  {
   "cell_type": "code",
   "execution_count": null,
   "metadata": {
    "collapsed": true
   },
   "outputs": [],
   "source": []
  },
  {
   "cell_type": "code",
   "execution_count": 7,
   "metadata": {
    "collapsed": true
   },
   "outputs": [],
   "source": [
    "pars=[0.0, 0.0, 0.01, 0.0, 50, 1.e5]\n",
    "gmix0=ngmix.GMixModel(pars,\"exp\")\n",
    "dims = [128,128]\n",
    "image0 = gmix0.make_image(dims)"
   ]
  },
  {
   "cell_type": "code",
   "execution_count": null,
   "metadata": {
    "collapsed": true
   },
   "outputs": [],
   "source": []
  },
  {
   "cell_type": "code",
   "execution_count": 7,
   "metadata": {},
   "outputs": [],
   "source": [
    "#Some test\n",
    "\n",
    "shear_list = []\n",
    "nocal_ES = []\n",
    "mcal_ES = []\n",
    "nocal_ng = []\n",
    "mcal_ng = []\n",
    "nocal_ab = []\n",
    "mcal_ab = []\n",
    "\n",
    "pixel_scale = 0.2\n",
    "gal_radius = 2.0\n",
    "psf_radius = 0.7\n",
    "psf_model_radius = 0.7\n",
    "sersic_n = 2.0\n",
    "flux = 1e5\n",
    "\n",
    "\n",
    "#test for shear ranging from -0.01 ~ 0.01\n",
    "for i in range(20):\n",
    "    #Truth\n",
    "    \n",
    "    this_shear = (i-10)*0.001\n",
    "    \n",
    "    \n",
    "    gal = galsim.Sersic(sersic_n,half_light_radius = gal_radius,flux = flux)\n",
    "    gal = gal.shear(g1 = this_shear , g2 = 0.0)\n",
    "    psf = galsim.Kolmogorov(half_light_radius = psf_radius)\n",
    "\n",
    "    final = galsim.Convolve([gal,psf])\n",
    "    psf_model  =galsim.Kolmogorov(half_light_radius = psf_model_radius)\n",
    "\n",
    "    #What you can use\n",
    "\n",
    "\n",
    "    image_epsf = psf_model.drawImage(scale = pixel_scale)\n",
    "    image = final.drawImage(scale = pixel_scale)\n",
    "    \n",
    "    metacal1 = metacal_shear_measure(image,image_epsf)\n",
    "    metacal1.measure_shear('estimateShear')\n",
    "    results1 = metacal1.get_results()\n",
    "    \n",
    "#     metacal2 = metacal_shear_measure(image,image_epsf)\n",
    "#     metacal2.measure_shear('ngmix')\n",
    "#     results2 = metacal2.get_results()\n",
    "    \n",
    "#     metacal3 = metacal_shear_measure(image,image_epsf)\n",
    "#     metacal3.measure_shear('admomBootstrap')\n",
    "#     results3 = metacal3.get_results()\n",
    "    \n",
    "    shear_list.append(this_shear)\n",
    "    nocal_ES.append(results1['g'])\n",
    "    mcal_ES.append(results1['g_cal'])\n",
    "#     nocal_ng.append(results2['g'])\n",
    "#     mcal_ng.append(results2['g_cal'])\n",
    "#     nocal_ab.append(results3['g'])\n",
    "#     mcal_ab.append(results3['g_cal'])\n"
   ]
  },
  {
   "cell_type": "code",
   "execution_count": 8,
   "metadata": {},
   "outputs": [
    {
     "data": {
      "text/plain": [
       "Text(0,0.5,'error in shear')"
      ]
     },
     "execution_count": 8,
     "metadata": {},
     "output_type": "execute_result"
    },
    {
     "data": {
      "image/png": "[encoded data removed]",
      "text/plain": [
       "<Figure size 576x432 with 1 Axes>"
      ]
     },
     "metadata": {
      "needs_background": "light"
     },
     "output_type": "display_data"
    }
   ],
   "source": [
    "plt.figure(figsize = (8,6))\n",
    "\n",
    "\n",
    "plt.plot(shear_list,np.array([g[0] for g in nocal_ES])-np.array(shear_list),'o',label = 'EstimateShear() - no calibration')\n",
    "plt.plot(shear_list,np.array([g[0] for g in mcal_ES])-np.array(shear_list),'^',label = 'EstimateShear() - mcal')\n",
    "\n",
    "# plt.plot(shear_list,np.array([g[0] for g in nocal_ng])-np.array(shear_list),'o',label = 'ngmix() - no calibration')\n",
    "# plt.plot(shear_list,np.array([g[0] for g in mcal_ng])-np.array(shear_list),'o',label = 'ngmix() - mcal')\n",
    "\n",
    "\n",
    "\n",
    "# plt.plot(shear_list,np.array([g[0] for g in nocal_ab])-np.array(shear_list),'o',label = 'admomBootstrap() - no calibration')\n",
    "# plt.plot(shear_list,np.array([g[0] for g in mcal_ab])-np.array(shear_list),'^',label = 'admomBootstrap() - mcal')\n",
    "\n",
    "plt.legend()\n",
    "\n",
    "plt.xlabel('shear')\n",
    "plt.ylabel('error in shear')\n",
    "\n",
    "#plt.ylim([-0.00025,0.00025])\n",
    "\n"
   ]
  },
  {
   "cell_type": "code",
   "execution_count": 13,
   "metadata": {},
   "outputs": [
    {
     "name": "stdout",
     "output_type": "stream",
     "text": [
      "slope =  -0.016478976879338286 , uncertainty =  4.208227336356802e-06\n",
      "slope =  0.004885463857723085 , uncertainty =  1.694239015377907e-05\n"
     ]
    }
   ],
   "source": [
    "fit_line(shear_list,np.array([g[0] for g in nocal_ES])-np.array(shear_list))\n",
    "fit_line(shear_list,np.array([g[0] for g in mcal_ES])-np.array(shear_list))\n",
    "\n",
    "# fit_line(shear_list,np.array([g[0] for g in nocal_ab])-np.array(shear_list))\n",
    "# fit_line(shear_list,np.array([g[0] for g in mcal_ab])-np.array(shear_list))\n"
   ]
  },
  {
   "cell_type": "markdown",
   "metadata": {},
   "source": [
    "1. make shear ranger larger\n",
    "2. convert e to g for estimateShear\n",
    "3. look into PSF fitting code\n",
    "4. understand nomcal-mcal, using correct PSF\n"
   ]
  },
  {
   "cell_type": "code",
   "execution_count": 69,
   "metadata": {
    "collapsed": true
   },
   "outputs": [],
   "source": [
    "#Some test\n",
    "\n",
    "shear_list = []\n",
    "truth = []\n",
    "nocal_ES = []\n",
    "mcal_ES = []\n",
    "\n",
    "#shear = 0.05\n",
    "shear = galsim.Shear(g1=0.05)\n",
    "\n",
    "gal_radius = 2.0\n",
    "psf_radius = 0.7\n",
    "psf_model_radius = 0.7\n",
    "\n",
    "for i in range(100):\n",
    "    \n",
    "    #Truth\n",
    "    \n",
    "    intrinsic_g1 = np.random.uniform(-0.3,0.3)\n",
    "    intrinsic = galsim.Shear(g1=intrinsic_g1,g2 = 0.0)\n",
    "    this_shear = shear + intrinsic\n",
    "    #this_shape = intrinsic+shear\n",
    "    truth.append(this_shear)\n",
    "    \n",
    "    \n",
    "    gal = galsim.Sersic(2.0,half_light_radius = gal_radius,flux = 1e5)\n",
    "    #gal = gal.shear(g1 = this_shape , g2 = 0.0)\n",
    "    gal = gal.shear(this_shear)\n",
    "    psf = galsim.Kolmogorov(half_light_radius = psf_radius)\n",
    "\n",
    "    final = galsim.Convolve([gal,psf])\n",
    "    psf_model  =galsim.Kolmogorov(half_light_radius = psf_model_radius)\n",
    "\n",
    "    #What you can use\n",
    "    pixel_scale = 0.1\n",
    "\n",
    "    image_epsf = psf_model.drawImage(scale = pixel_scale)\n",
    "    image = final.drawImage(scale = pixel_scale)\n",
    "    \n",
    "    metacal1 = metacal_shear_measure(image,image_epsf)\n",
    "    metacal1.measure_shear('estimateShear')\n",
    "    results1 = metacal1.get_results()\n",
    "    \n",
    "    \n",
    "    shear_list.append(this_shear)\n",
    "    nocal_ES.append(results1['g'])\n",
    "    mcal_ES.append(results1['g_cal'])\n"
   ]
  },
  {
   "cell_type": "code",
   "execution_count": 70,
   "metadata": {},
   "outputs": [
    {
     "data": {
      "text/plain": [
       "<matplotlib.axes._subplots.AxesSubplot at 0x1a27496d50>"
      ]
     },
     "execution_count": 70,
     "metadata": {},
     "output_type": "execute_result"
    },
    {
     "data": {
      "image/png": "[encoded data removed]",
      "text/plain": [
       "<Figure size 432x288 with 1 Axes>"
      ]
     },
     "metadata": {
      "needs_background": "light"
     },
     "output_type": "display_data"
    }
   ],
   "source": [
    "ES_G1_NOCAL = np.array([g[0] for g in nocal_ES])\n",
    "ES_G1_MCAL = np.array([g[0] for g in mcal_ES])\n",
    "truthlist = [g.g1 for g in truth]\n",
    "sns.distplot(ES_G1_NOCAL)\n",
    "sns.distplot(ES_G1_MCAL)"
   ]
  },
  {
   "cell_type": "code",
   "execution_count": 72,
   "metadata": {},
   "outputs": [
    {
     "name": "stdout",
     "output_type": "stream",
     "text": [
      "0.00820699846889\n"
     ]
    }
   ],
   "source": [
    "print truth[0].g1"
   ]
  },
  {
   "cell_type": "code",
   "execution_count": 73,
   "metadata": {},
   "outputs": [
    {
     "data": {
      "text/plain": [
       "(-0.0025, 0.0025)"
      ]
     },
     "execution_count": 73,
     "metadata": {},
     "output_type": "execute_result"
    },
    {
     "data": {
      "image/png": "[encoded data removed]",
      "text/plain": [
       "<Figure size 432x288 with 1 Axes>"
      ]
     },
     "metadata": {
      "needs_background": "light"
     },
     "output_type": "display_data"
    }
   ],
   "source": [
    "plt.plot(truthlist,ES_G1_NOCAL-truthlist,'o')\n",
    "plt.plot(truthlist,ES_G1_MCAL-truthlist,'^')\n",
    "plt.xlim([-0.1,0.1])\n",
    "plt.ylim(-0.0025,0.0025)"
   ]
  },
  {
   "cell_type": "code",
   "execution_count": 83,
   "metadata": {},
   "outputs": [
    {
     "data": {
      "text/plain": [
       "<matplotlib.legend.Legend at 0x1a21c74b10>"
      ]
     },
     "execution_count": 83,
     "metadata": {},
     "output_type": "execute_result"
    },
    {
     "data": {
      "image/png": "[encoded data removed]",
      "text/plain": [
       "<Figure size 576x576 with 1 Axes>"
      ]
     },
     "metadata": {
      "needs_background": "light"
     },
     "output_type": "display_data"
    }
   ],
   "source": [
    "plt.figure(figsize = (8,8))\n",
    "plt.plot([-1,1],[-1,1],color = 'green',label = 'y=x')\n",
    "plt.plot(truthlist,ES_G1_NOCAL,'o',label = 'Regaussian')\n",
    "plt.plot(truthlist,ES_G1_MCAL,'^',label = 'Regaussian mcal')\n",
    "plt.xlim([-0.3,0.3])\n",
    "plt.ylim([-0.3,0.3])\n",
    "plt.xlabel('True g1')\n",
    "plt.ylabel('Measured g1')\n",
    "plt.legend()\n"
   ]
  },
  {
   "cell_type": "code",
   "execution_count": null,
   "metadata": {
    "collapsed": true
   },
   "outputs": [],
   "source": []
  },
  {
   "cell_type": "code",
   "execution_count": 75,
   "metadata": {},
   "outputs": [
    {
     "name": "stdout",
     "output_type": "stream",
     "text": [
      "0.05294098553335715\n",
      "0.03643890403502155\n"
     ]
    }
   ],
   "source": [
    "print np.mean(ES_G1_MCAL)\n",
    "print np.mean(ES_G1_NOCAL)"
   ]
  },
  {
   "cell_type": "code",
   "execution_count": null,
   "metadata": {
    "collapsed": true
   },
   "outputs": [],
   "source": []
  },
  {
   "cell_type": "code",
   "execution_count": null,
   "metadata": {
    "collapsed": true
   },
   "outputs": [],
   "source": []
  }
 ],
 "metadata": {
  "kernelspec": {
   "display_name": "Python 2",
   "language": "python",
   "name": "python2"
  },
  "language_info": {
   "codemirror_mode": {
    "name": "ipython",
    "version": 2
   },
   "file_extension": ".py",
   "mimetype": "text/x-python",
   "name": "python",
   "nbconvert_exporter": "python",
   "pygments_lexer": "ipython2",
   "version": "2.7.16"
  }
 },
 "nbformat": 4,
 "nbformat_minor": 2
}

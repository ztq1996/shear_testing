{
 "cells": [
  {
   "cell_type": "code",
   "execution_count": 5,
   "metadata": {},
   "outputs": [],
   "source": [
    "import sys\n",
    "import os\n",
    "import math\n",
    "import logging\n",
    "import galsim\n",
    "import numpy as np\n",
    "import matplotlib.pyplot as plt\n",
    "from scipy.optimize import bisect\n",
    "import argparse\n",
    "from IPython.display import clear_output\n",
    "from numpy.random import random_sample\n",
    "import matplotlib"
   ]
  },
  {
   "cell_type": "code",
   "execution_count": 6,
   "metadata": {},
   "outputs": [],
   "source": [
    "def Sersic_sigma(half_light_re,n,pixel_scale,sigma):\n",
    "    light_profile = galsim.Sersic(n, half_light_radius=half_light_re)\n",
    "    image = light_profile.drawImage(scale = pixel_scale)\n",
    "    return galsim.hsm.FindAdaptiveMom(image).moments_sigma*pixel_scale-sigma\n",
    "\n",
    "def Kolmogorov_sigma(half_light_re,pixel_scale,sigma):\n",
    "    light_profile = galsim.Kolmogorov(half_light_radius=half_light_re)\n",
    "    image = light_profile.drawImage(scale = pixel_scale)\n",
    "    return galsim.hsm.FindAdaptiveMom(image).moments_sigma*pixel_scale-sigma\n",
    "\n",
    "def OpticalPSF_sigma(fwhm,pixel_scale,sigma):\n",
    "    light_profile = galsim.OpticalPSF(fwhm)\n",
    "    image = light_profile.drawImage(scale = pixel_scale)\n",
    "    return galsim.hsm.FindAdaptiveMom(image).moments_sigma*pixel_scale-sigma\n",
    "\n",
    "def Gaussian_sigma(sigma,pixel_scale):\n",
    "    light_profile = galsim.Gaussian(sigma)\n",
    "    image = light_profile.drawImage(scale = pixel_scale)\n",
    "    return galsim.hsm.FindAdaptiveMom(image).moments_sigma*pixel_scale"
   ]
  },
  {
   "cell_type": "code",
   "execution_count": 7,
   "metadata": {},
   "outputs": [],
   "source": [
    "class PSFSameSecondTest:\n",
    "    \n",
    "    def __init__(self, gal_type, gal_sigma,e1,e2,psf_type,psf_sigma,psf_e1,psf_e2,\n",
    "                gal_flux=1.e2,pixel_scale = 0.1,sersicn = -1,subtract_intersection = True):\n",
    "        self.gal_type = gal_type\n",
    "        self.gal_sigma = gal_sigma\n",
    "        self.psf_type = psf_type\n",
    "        self.psf_sigma = psf_sigma\n",
    "        self.psf_model_sigma = psf_sigma\n",
    "        self.psf_e1 = psf_e1\n",
    "        self.psf_e2 = psf_e2\n",
    "        self.psf_model_e1 = psf_e1\n",
    "        self.psf_model_e2 = psf_e2\n",
    "        self.gal_flux=gal_flux\n",
    "        self.pixel_scale = pixel_scale\n",
    "        self.e1 = e1\n",
    "        self.e2 = e2\n",
    "        self.e = np.sqrt(e1**2+e2**2)\n",
    "        self.sersicn=sersicn\n",
    "        self.e_truth = np.sqrt(e1**2+e2**2)\n",
    "        self.subtract_intersection = subtract_intersection\n",
    "        if gal_type == \"gaussian\":\n",
    "            self.gal_light = galsim.Gaussian(flux = self.gal_flux, sigma = Gaussian_sigma(self.gal_sigma,self.pixel_scale))\n",
    "        elif gal_type == \"sersic\":\n",
    "            self.gal_light = self.findAdaptiveSersic(gal_sigma)\n",
    "        \n",
    "        self.gal_light = self.gal_light.shear(e1=e1, e2=e2)\n",
    "            \n",
    "        \n",
    "        if psf_type == \"gaussian\":\n",
    "            self.psf_light = galsim.Gaussian(flux = self.gal_flux, sigma = Gaussian_sigma(self.gal_sigma,self.pixel_scale))\n",
    "            self.psf_model_light = galsim.Gaussian(flux = self.gal_flux, sigma = Gaussian_sigma(self.gal_sigma,self.pixel_scale))\n",
    "        elif psf_type == \"kolmogorov\":\n",
    "            self.psf_light = self.findAdaptiveKolmogorov(self.psf_sigma)\n",
    "            self.psf_model_light = galsim.Gaussian(flux = 1.0, sigma = self.psf_model_sigma)\n",
    "        elif psf_type == \"opticalPSF\":\n",
    "            self.psf_light = self.findAdaptiveOpticalPSF(self.psf_sigma)\n",
    "            self.psf_model_light = galsim.Gaussian(flux = 1.0, sigma = self.psf_model_sigma)\n",
    "            \n",
    "        self.psf_light = self.psf_light.shear(e1=psf_e1, e2=psf_e2)\n",
    "        self.psf_model_light = self.psf_model_light.shear(e1=self.psf_model_e1,e2=self.psf_model_e2)\n",
    "            \n",
    "            \n",
    "    def get_intersection(self):\n",
    "        image_epsf = self.psf_light.drawImage(scale=self.pixel_scale)\n",
    "        final = galsim.Convolve([self.gal_light,self.psf_light])\n",
    "        image = final.drawImage(scale = self.pixel_scale)\n",
    "        results = galsim.hsm.EstimateShear(image,image_epsf)\n",
    "        intersection = np.sqrt(results.corrected_e1**2+results.corrected_e2**2)-self.e_truth\n",
    "        return intersection\n",
    "    \n",
    "    def get_prediction(self):\n",
    "        return self.e_truth*(self.psf_model_sigma**2-self.psf_sigma**2)/self.gal_sigma**2 + (self.psf_sigma/self.gal_sigma)**2*(self.psf_e2-self.psf_model_e2)\n",
    "    \n",
    "    def get_measurement(self):\n",
    "        image_epsf = self.psf_model_light.drawImage(scale = self.pixel_scale)\n",
    "        final = galsim.Convolve([self.gal_light,self.psf_light])\n",
    "        image = final.drawImage(scale = self.pixel_scale)\n",
    "        results = galsim.hsm.EstimateShear(image,image_epsf)\n",
    "        bias = np.sqrt(results.corrected_e1**2+results.corrected_e2**2)-self.e_truth\n",
    "        if self.subtract_intersection==True:\n",
    "            return bias-self.get_intersection()\n",
    "        else:\n",
    "            return bias\n",
    "    \n",
    "    def findAdaptiveSersic(self,sigma):\n",
    "        good_half_light_re = bisect(Sersic_sigma,self.gal_sigma/5,self.gal_sigma*5,args=(self.sersicn,self.pixel_scale,sigma))\n",
    "        return galsim.Sersic(n=self.sersicn,half_light_radius=good_half_light_re)\n",
    "    \n",
    "    def findAdaptiveKolmogorov(self,sigma):\n",
    "        good_half_light_re = bisect(Kolmogorov_sigma,self.psf_sigma/5,self.psf_sigma*5,args = (self.pixel_scale,sigma))\n",
    "        return galsim.Kolmogorov(half_light_radius = good_half_light_re)\n",
    "    \n",
    "    def findAdaptiveOpticalPSF(self,sigma):\n",
    "        good_fwhm = bisect(OpticalPSF_sigma,self.psf_sigma/5,self.psf_sigma*5,args = (self.pixel_scale,sigma))\n",
    "        return galsim.OpticalPSF(good_fwhm)\n",
    "        \n",
    "    \n",
    "    def real_gal_sigma(self):\n",
    "        image = self.gal_light.drawImage(scale = self.pixel_scale)\n",
    "        return galsim.hsm.FindAdaptiveMom(image).moments_sigma*self.pixel_scale\n",
    "    \n",
    "    def get_results(self):\n",
    "        results = dict()\n",
    "        results[\"prediction\"] = self.get_prediction()\n",
    "        results[\"measurement\"] = self.get_measurement()\n",
    "\n",
    "        results[\"gal_type\"] = self.gal_type\n",
    "        results[\"psf_type\"] = self.psf_type\n",
    "        results[\"gal_sigma\"] = self.gal_sigma\n",
    "        results[\"psf_sigma\"] = self.psf_sigma\n",
    "        results[\"e1\"] = self.e1\n",
    "        results[\"e2\"] = self.e2\n",
    "        results[\"e\"] = self.e\n",
    "        results[\"sersicn\"] = self.sersicn\n",
    "        results[\"psf_e1\"] = self.psf_e1\n",
    "        results[\"psf_e2\"] = self.psf_e2\n",
    "        \n",
    "        results[\"psf_model_sigma\"] = self.psf_model_sigma\n",
    "        results[\"psf_model_e1\"] = self.psf_model_e1\n",
    "        results[\"psf_model_e2\"] = self.psf_model_e2\n",
    "\n",
    "        \n",
    "        results[\"prediction-error\"] = results[\"prediction\"]-results[\"measurement\"]\n",
    "        results[\"prediction-percenterror\"] = results[\"prediction-error\"]/results[\"e\"]\n",
    "        \n",
    "        return results\n",
    "    \n",
    "    \n",
    "    \n",
    "    \n",
    "    \n",
    "    "
   ]
  },
  {
   "cell_type": "markdown",
   "metadata": {},
   "source": [
    "Things to do:\n",
    "\n",
    "1. make gaussian PSF pixel responsive.\n",
    "\n",
    "2. make size of galaxy PSF and pixel more realistic. \n",
    "\n",
    "3. Look at optical PSF after pixel response\n",
    "\n",
    "\n",
    "\n"
   ]
  },
  {
   "cell_type": "code",
   "execution_count": 51,
   "metadata": {},
   "outputs": [
    {
     "name": "stdout",
     "output_type": "stream",
     "text": [
      "{'psf_model_sigma': 0.5, 'e': 0.1, 'psf_type': 'opticalPSF', 'psf_model_e1': 0.0, 'prediction-error': 0.004733106493948272, 'gal_sigma': 1.5, 'psf_e1': 0.0, 'prediction': 0.0, 'sersicn': 1.5, 'measurement': -0.004733106493948272, 'prediction-percenterror': 0.04733106493948272, 'psf_e2': 0.0, 'e2': 0.1, 'e1': 0.0, 'psf_model_e2': 0.0, 'psf_sigma': 0.5, 'gal_type': 'sersic'}\n"
     ]
    }
   ],
   "source": [
    "test1 = PSFSameSecondTest(\"sersic\",1.5,0.0,0.1,                       #gal_type,gal_sigma,e1,e2\n",
    "                \"opticalPSF\",0.5,\n",
    "                0.0,0.0,\n",
    "                sersicn=1.5,subtract_intersection=False)           #psf_type,psf_sigma,size_error\n",
    "\n",
    "print test1.get_results()"
   ]
  },
  {
   "cell_type": "markdown",
   "metadata": {},
   "source": [
    "comment: A debug test\n",
    "\n",
    "intersection : bias for model==truth\n",
    "\n",
    "Currently, PSF model just match the truth size, and shear the same way as the truth\n",
    "\n",
    "\n",
    "\n"
   ]
  },
  {
   "cell_type": "code",
   "execution_count": 8,
   "metadata": {},
   "outputs": [],
   "source": [
    "# different type of galaxy and different type of psf light profile, but with 2.0 gal_sig and 0.6 psf_sig\n",
    "#       gal_type   ,gal_sig,e1 ,e2 , psf_type    ,psf_sig,SE   ,optionals    \n",
    "test2= [(\"gaussian\" ,1.5    ,0.0,0.1,\"gaussian\"  ,1.0     ,0.0,0.0,{'subtract_intersection':True}),\n",
    "       (\"gaussian\" ,1.5    ,0.0,0.1,\"kolmogorov\" ,1.0     ,0.0,0.0,{'subtract_intersection':True}),\n",
    "       (\"gaussian\" ,1.5    ,0.0,0.1,\"opticalPSF\" ,1.0     ,0.0,0.0,{'subtract_intersection':True}),\n",
    "       (\"sersic\"   ,1.5    ,0.0,0.1,\"gaussian\"   ,1.0     ,0.0,0.0,{'subtract_intersection':True,'sersicn':0.5}),\n",
    "       (\"sersic\"   ,1.5    ,0.0,0.1,\"kolmogorov\" ,1.0     ,0.0,0.0,{'subtract_intersection':True,'sersicn':0.5}),\n",
    "       (\"sersic\"   ,1.5    ,0.0,0.1,\"opticalPSF\" ,1.0     ,0.0,0.0,{'subtract_intersection':True,'sersicn':0.5}),\n",
    "       (\"sersic\"   ,1.5    ,0.0,0.1,\"gaussian\"   ,1.0     ,0.0,0.0,{'subtract_intersection':True,'sersicn':3}),\n",
    "       (\"sersic\"   ,1.5    ,0.0,0.1,\"kolmogorov\" ,1.0     ,0.0,0.0,{'subtract_intersection':True,'sersicn':3}),\n",
    "       (\"sersic\"   ,1.5    ,0.0,0.1,\"opticalPSF\" ,1.0     ,0.0,0.0,{'subtract_intersection':True,'sersicn':3}),\n",
    "      ]"
   ]
  },
  {
   "cell_type": "code",
   "execution_count": 9,
   "metadata": {},
   "outputs": [
    {
     "name": "stdout",
     "output_type": "stream",
     "text": [
      "gaussian gaussian 0.0\n",
      "gaussian kolmogorov -0.04051819443702073\n",
      "gaussian opticalPSF 0.038145408034328115\n",
      "sersic gaussian 0.0\n",
      "sersic kolmogorov -0.043151825666428306\n",
      "sersic opticalPSF 0.014307871460916971\n",
      "sersic gaussian 0.0\n",
      "sersic kolmogorov -0.04959583282472327\n",
      "sersic opticalPSF -0.016032159328459028\n"
     ]
    }
   ],
   "source": [
    "test2result = []\n",
    "for i in range(len(test2)):\n",
    "    test = PSFSameSecondTest(*test2[i][:-1],**test2[i][-1])\n",
    "    results = test.get_results()\n",
    "    print results[\"gal_type\"],results[\"psf_type\"],results['measurement']/results['e2']\n",
    "    test2result.append(results)"
   ]
  },
  {
   "cell_type": "markdown",
   "metadata": {},
   "source": [
    "Comment:\n",
    "\n",
    "Sanity chck: Gaussian PSF have 0 bias when repalced by the same Gaussian\n",
    "\n",
    "At a first glance, the wrongness of e2 does NOT depend a lot on the type of galaxy\n",
    "\n",
    "But they depend on type of PSF by a lot (of course)\n",
    "\n",
    "Gonna make sure that it does not depend on size ratio"
   ]
  },
  {
   "cell_type": "code",
   "execution_count": 20,
   "metadata": {},
   "outputs": [],
   "source": [
    "#gal_sigma varies from 0.6 arcsec to 3 arcsec, for sersic n = 3 galaxy on gaussian psf (1 arcsec)\n",
    "#       gal_type   ,gal_sig    ,e1 ,e2 , psf_type    ,psf_sig,SE   ,optionals    \n",
    "test3 = [(\"sersic\"   ,0.6+0.1*i    ,0.0,0.1,\"kolmogorov\" ,1.0    ,0.0,0.0,{'subtract_intersection':True,'sersicn':3}) for i in range(20)\n",
    "      ]"
   ]
  },
  {
   "cell_type": "code",
   "execution_count": 21,
   "metadata": {},
   "outputs": [
    {
     "name": "stdout",
     "output_type": "stream",
     "text": [
      "Finished 100.0%\n"
     ]
    }
   ],
   "source": [
    "test3result=[]\n",
    "for i in range(len(test3)):\n",
    "    test = PSFSameSecondTest(*test3[i][:-1],**test3[i][-1])\n",
    "    results = test.get_results()\n",
    "    test3result.append(results)\n",
    "    clear_output() \n",
    "    print (\"Finished \"+str(float((i+1))/len(test3)*100)+\"%\")"
   ]
  },
  {
   "cell_type": "code",
   "execution_count": 75,
   "metadata": {},
   "outputs": [
    {
     "data": {
      "image/png": "[encoded data removed]",
      "text/plain": [
       "<Figure size 432x288 with 1 Axes>"
      ]
     },
     "metadata": {
      "needs_background": "light"
     },
     "output_type": "display_data"
    }
   ],
   "source": [
    "plt.plot([t['gal_sigma']/t['psf_sigma'] for t in test3result],100*np.array([t[\"measurement\"]/t['e2'] for t in test3result]),label='truth')\n",
    "plt.xlabel(\"galaxy_sigma/PSF_sigma\")\n",
    "plt.ylabel(\"Ellipticity bias (% of e)\")\n",
    "plt.legend()\n",
    "\n",
    "xpos=3\n",
    "\n",
    "ypos=-4\n",
    "\n",
    "plt.text(xpos,ypos-0.1,\"Galaxy type: Sersic, n=3\")\n",
    "plt.text(xpos,ypos-0.2,\"Galaxy size: 0.6~2.6 arcsec\")\n",
    "plt.text(xpos,ypos-0.3,\"Galaxy shape: e1=0, e2=0.1\")\n",
    "\n",
    "\n",
    "plt.text(xpos,ypos-0.4,\"PSF Type: Kolmogorov\")\n",
    "plt.text(xpos,ypos-0.5,\"PSF size: 1.0 arcsec\")\n",
    "plt.text(xpos,ypos-0.6,\"PSF shape: e1=0, e2=0\")\n",
    "\n",
    "plt.text(xpos,ypos-0.8,\"PSF Model: Gaussian\")\n",
    "plt.text(xpos,ypos-0.9,\"PSF size: 1 arcsec\")\n",
    "plt.text(xpos,ypos-1,\"PSF shape: e1=0, e2=0\")\n",
    "\n",
    "\n",
    "\n",
    "plt.grid()\n",
    "plt.show()"
   ]
  },
  {
   "cell_type": "markdown",
   "metadata": {},
   "source": [
    "Turns out when we fix the PSF truth and model, change the galaxy size, the dependence of the bias on the size ratio is non-linear. Don't really know what this function is. Should we try to fit it?"
   ]
  },
  {
   "cell_type": "code",
   "execution_count": 57,
   "metadata": {},
   "outputs": [],
   "source": [
    "#gal_sigma varies from 0.6 arcsec to 3 arcsec, for sersic n = 3 galaxy on gaussian psf (1 arcsec)\n",
    "#       gal_type   ,gal_sig    ,e1 ,e2 , psf_type    ,psf_sig,SE   ,optionals    \n",
    "test4 = [(\"sersic\"   ,1.5    ,0.0,0.1,\"kolmogorov\" ,0.5+0.1*i   ,0.0,0.0,{'subtract_intersection':True,'sersicn':3}) for i in range(15)\n",
    "      ]"
   ]
  },
  {
   "cell_type": "code",
   "execution_count": 58,
   "metadata": {},
   "outputs": [
    {
     "name": "stdout",
     "output_type": "stream",
     "text": [
      "Finished 100.0%\n"
     ]
    }
   ],
   "source": [
    "test4result=[]\n",
    "for i in range(len(test4)):\n",
    "    test = PSFSameSecondTest(*test4[i][:-1],**test4[i][-1])\n",
    "    results = test.get_results()\n",
    "    test4result.append(results)\n",
    "    clear_output() \n",
    "    print (\"Finished \"+str(float((i+1))/len(test4)*100)+\"%\")"
   ]
  },
  {
   "cell_type": "code",
   "execution_count": 74,
   "metadata": {},
   "outputs": [
    {
     "data": {
      "image/png": "[encoded data removed]",
      "text/plain": [
       "<Figure size 432x288 with 1 Axes>"
      ]
     },
     "metadata": {
      "needs_background": "light"
     },
     "output_type": "display_data"
    }
   ],
   "source": [
    "plt.plot([t['gal_sigma']/t['psf_sigma'] for t in test4result],100*np.array([t[\"measurement\"]/t['e2'] for t in test4result]),label='truth')\n",
    "plt.xlabel(\"galaxy_sigma/PSF_sigma\")\n",
    "plt.ylabel(\"Ellipticity bias (% of e)\")\n",
    "plt.legend()\n",
    "\n",
    "xpos=3.7\n",
    "\n",
    "ypos=-4.2\n",
    "\n",
    "plt.text(xpos,ypos-0.1,\"Galaxy type: Sersic, n=3\")\n",
    "plt.text(xpos,ypos-0.2,\"Galaxy size: 1.5 arcsec\")\n",
    "plt.text(xpos,ypos-0.3,\"Galaxy shape: e1=0, e2=0.1\")\n",
    "\n",
    "\n",
    "plt.text(xpos,ypos-0.4,\"PSF Type: Kolmogorov\")\n",
    "plt.text(xpos,ypos-0.5,\"PSF size: 0.5~2 arcsec\")\n",
    "plt.text(xpos,ypos-0.6,\"PSF shape: e1=0, e2=0\")\n",
    "\n",
    "plt.text(xpos,ypos-0.8,\"PSF Model: Gaussian\")\n",
    "plt.text(xpos,ypos-0.9,\"PSF size: 0.5~2 arcsec\")\n",
    "plt.text(xpos,ypos-1,\"PSF shape: e1=0, e2=0\")\n",
    "\n",
    "plt.grid()\n",
    "plt.show()"
   ]
  },
  {
   "cell_type": "markdown",
   "metadata": {},
   "source": [
    "Comment:\n",
    "\n",
    "When changing the size of PSF, the trend is the same for size ratio. They both reach the maximum bias at G/P ~1.5\n",
    "\n",
    "\n"
   ]
  },
  {
   "cell_type": "code",
   "execution_count": 68,
   "metadata": {},
   "outputs": [],
   "source": [
    "#gal_sigma varies from 0.6 arcsec to 3 arcsec, for sersic n = 3 galaxy on gaussian psf (1 arcsec)\n",
    "#       gal_type   ,gal_sig    ,e1 ,e2 , psf_type    ,psf_sig,SE   ,optionals    \n",
    "test5 = [(\"sersic\"   ,0.6+0.1*i    ,0.0,0.1,\"opticalPSF\" ,1.0    ,0.0,0.0,{'subtract_intersection':True,'sersicn':3}) for i in range(20)\n",
    "      ]"
   ]
  },
  {
   "cell_type": "code",
   "execution_count": 69,
   "metadata": {},
   "outputs": [
    {
     "name": "stdout",
     "output_type": "stream",
     "text": [
      "Finished 100.0%\n"
     ]
    }
   ],
   "source": [
    "test5result=[]\n",
    "for i in range(len(test5)):\n",
    "    test = PSFSameSecondTest(*test5[i][:-1],**test5[i][-1])\n",
    "    results = test.get_results()\n",
    "    test5result.append(results)\n",
    "    clear_output() \n",
    "    print (\"Finished \"+str(float((i+1))/len(test5)*100)+\"%\")"
   ]
  },
  {
   "cell_type": "code",
   "execution_count": 73,
   "metadata": {},
   "outputs": [
    {
     "data": {
      "image/png": "[encoded data removed]",
      "text/plain": [
       "<Figure size 432x288 with 1 Axes>"
      ]
     },
     "metadata": {
      "needs_background": "light"
     },
     "output_type": "display_data"
    }
   ],
   "source": [
    "plt.plot([t['gal_sigma']/t['psf_sigma'] for t in test5result],100*np.array([t[\"measurement\"]/t['e2'] for t in test5result]),label='truth')\n",
    "plt.xlabel(\"galaxy_sigma/PSF_sigma\")\n",
    "plt.ylabel(\"Ellipticity bias (% of e)\")\n",
    "plt.legend()\n",
    "\n",
    "xpos=3\n",
    "\n",
    "ypos=8\n",
    "\n",
    "plt.text(xpos,ypos-1,\"Galaxy type: Sersic, n=3\")\n",
    "plt.text(xpos,ypos-2,\"Galaxy size: 0.6~2.6 arcsec\")\n",
    "plt.text(xpos,ypos-3,\"Galaxy shape: e1=0, e2=0.1\")\n",
    "\n",
    "\n",
    "plt.text(xpos,ypos-5,\"PSF Type: Optical PSF\")\n",
    "plt.text(xpos,ypos-6,\"PSF size: 1.0 arcsec\")\n",
    "plt.text(xpos,ypos-7,\"PSF shape: e1=0, e2=0\")\n",
    "\n",
    "plt.text(xpos,ypos-9,\"PSF Model: Gaussian\")\n",
    "plt.text(xpos,ypos-10,\"PSF size: 1.0 arcsec\")\n",
    "plt.text(xpos,ypos-11,\"PSF shape: e1=0, e2=0\")\n",
    "\n",
    "\n",
    "\n",
    "plt.grid()\n",
    "plt.show()"
   ]
  },
  {
   "cell_type": "markdown",
   "metadata": {},
   "source": [
    "Comments:\n",
    "\n",
    "The optical PSF went insane when repalced by Gaussian.  Seems that it has a larger higher moments. This also largely depend on the size of the PSF.\n",
    "\n",
    "I don't understand why the bias in OPSF is size dependent but Kolmogorov isn't"
   ]
  },
  {
   "cell_type": "code",
   "execution_count": null,
   "metadata": {},
   "outputs": [],
   "source": []
  }
 ],
 "metadata": {
  "kernelspec": {
   "display_name": "Python 2",
   "language": "python",
   "name": "python2"
  },
  "language_info": {
   "codemirror_mode": {
    "name": "ipython",
    "version": 2
   },
   "file_extension": ".py",
   "mimetype": "text/x-python",
   "name": "python",
   "nbconvert_exporter": "python",
   "pygments_lexer": "ipython2",
   "version": "2.7.16"
  }
 },
 "nbformat": 4,
 "nbformat_minor": 2
}
